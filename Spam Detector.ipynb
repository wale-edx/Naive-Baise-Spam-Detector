{
 "cells": [
  {
   "cell_type": "code",
   "execution_count": 1,
   "metadata": {
    "collapsed": false
   },
   "outputs": [],
   "source": [
    "import numpy as np\n",
    "import math"
   ]
  },
  {
   "cell_type": "code",
   "execution_count": 2,
   "metadata": {
    "collapsed": true
   },
   "outputs": [],
   "source": [
    "def prepare(emails):\n",
    "    spam=0;ham=0\n",
    "    labels=[]\n",
    "    emails_list=[]\n",
    "    for email in emails :\n",
    "        label = email.split(\" \")[1]\n",
    "        labels.append(label)\n",
    "        email=email.split(\" \")[2:]\n",
    "        email = get_word_dic(email)\n",
    "        #email=np.array(email)\n",
    "        #email=email.reshape(len(email)/2,2)\n",
    "        emails_list.append(email)\n",
    "    return labels,emails_list"
   ]
  },
  {
   "cell_type": "code",
   "execution_count": 3,
   "metadata": {
    "collapsed": true
   },
   "outputs": [],
   "source": [
    "def get_word_dic(emails):\n",
    "    word_dic={}\n",
    "    e=np.array(emails)\n",
    "    e=e.reshape(len(emails)/2,2)\n",
    "    for i,x in e:\n",
    "        try:\n",
    "            word_dic[i]=(word_dic[i])+int(x)\n",
    "        except:\n",
    "\n",
    "            word_dic[i]=int(x)\n",
    "    return word_dic\n"
   ]
  },
  {
   "cell_type": "code",
   "execution_count": 4,
   "metadata": {
    "collapsed": true
   },
   "outputs": [],
   "source": [
    "def Naive_Baise_train(labels_train,emails_train):\n",
    "    len_train= len(labels_train)\n",
    "    hamcount=0;spamcount=0;\n",
    "    for i in labels_train:\n",
    "        if i==\"ham\":\n",
    "            hamcount+=1\n",
    "    spamcount=len_train-hamcount\n",
    "    pspam=spamcount/(float)(len_train)\n",
    "    pham=1-pspam\n",
    "    mixed_dir_ham={}\n",
    "    mixed_dir_spam={}\n",
    "    for key,email_dir in enumerate(emails_train):\n",
    "        for word,freq in (email_dir.items()):\n",
    "            if labels_train[key]==\"ham\":\n",
    "                try:\n",
    "                    mixed_dir_ham[word]=mixed_dir_ham[word]+freq\n",
    "                except:\n",
    "                    mixed_dir_ham[word]=int(freq)\n",
    "            else :\n",
    "                try:\n",
    "                    mixed_dir_spam[word]=mixed_dir_spam[word]+freq\n",
    "                except:\n",
    "                    mixed_dir_spam[word]=int(freq)\n",
    "    return mixed_dir_ham,mixed_dir_spam,pham,pspam,len_train"
   ]
  },
  {
   "cell_type": "code",
   "execution_count": 5,
   "metadata": {
    "collapsed": true
   },
   "outputs": [],
   "source": [
    "def top_five(dic):\n",
    "    top=sorted(dic.iteritems(), key=lambda (v,k): (k,v),reverse=True)[:5]  \n",
    "    return top"
   ]
  },
  {
   "cell_type": "code",
   "execution_count": 16,
   "metadata": {
    "collapsed": true
   },
   "outputs": [],
   "source": [
    "def p_of_word(word,dic,name=\"ham\",smooth=True):\n",
    "    total_word = sum(dic.values())\n",
    "    #total_word = len(dic)\n",
    "    k=1000\n",
    "    try:\n",
    "        p=(dic[word]+1)/(np.float64(total_word+k))\n",
    "    except:\n",
    "        p=1/(float(total_word+k))\n",
    "    #print \"P(\",word,\"|\",name,\") = \" ,p\n",
    "    return np.log2(p)\n",
    "def get_all_pr(dic,name=\"ham\"):\n",
    "    total_word = sum(dic.values())\n",
    "    t=0\n",
    "    for word in dic:\n",
    "        p=p_of_word(word,dic)\n",
    "        t=t+p\n",
    "        print \"P(\",word,\"|\",name,\") = \" ,(p)\n",
    "    return t\n",
    "def predict(email,spam,ham,prior_spam,prior_ham):\n",
    "    pins=np.log2(prior_spam)\n",
    "    pinh=np.log2(prior_ham)\n",
    "    for word,count in email.items():\n",
    "        pins=pins+(int(count)*NB_word(word,spam))\n",
    "        pinh=pinh+(int(count)*NB_word(word,ham))\n",
    "        \n",
    "    if pins > pinh:\n",
    "        return \"spam\"\n",
    "    return \"ham\"\n",
    "def NB_word(word,dic):\n",
    "    return p_of_word(word,dic)"
   ]
  },
  {
   "cell_type": "code",
   "execution_count": 17,
   "metadata": {
    "collapsed": false
   },
   "outputs": [],
   "source": [
    "with open(\"data/train\") as f:\n",
    "    emails = f.readlines()\n",
    "labels_train,emails_train=prepare(emails)\n",
    "\n",
    "with open(\"data/test\") as f:\n",
    "    emails = f.readlines()\n",
    "labels_test,emails_test=prepare(emails)\n",
    "\n",
    "len_test= len(labels_test)\n",
    "len_train= len(labels_train)"
   ]
  },
  {
   "cell_type": "code",
   "execution_count": 18,
   "metadata": {
    "collapsed": false
   },
   "outputs": [],
   "source": [
    "ham_dic,spam_dic,pham,pspam,_=Naive_Baise_train(labels_train,emails_train)"
   ]
  },
  {
   "cell_type": "code",
   "execution_count": 19,
   "metadata": {
    "collapsed": false
   },
   "outputs": [
    {
     "data": {
      "text/plain": [
       "0.42633333333333334"
      ]
     },
     "execution_count": 19,
     "metadata": {},
     "output_type": "execute_result"
    }
   ],
   "source": [
    "pham"
   ]
  },
  {
   "cell_type": "code",
   "execution_count": 20,
   "metadata": {
    "collapsed": false
   },
   "outputs": [
    {
     "data": {
      "text/plain": [
       "0.5736666666666667"
      ]
     },
     "execution_count": 20,
     "metadata": {},
     "output_type": "execute_result"
    }
   ],
   "source": [
    "pspam"
   ]
  },
  {
   "cell_type": "code",
   "execution_count": 21,
   "metadata": {
    "collapsed": false
   },
   "outputs": [
    {
     "name": "stdout",
     "output_type": "stream",
     "text": [
      "Accuracy on Test data : 90.2\n"
     ]
    }
   ],
   "source": [
    "error = 0\n",
    "for key,email in enumerate(emails_test):\n",
    "    y= predict(email,spam_dic,ham_dic,pspam,pham)\n",
    "    if labels_test[key] != y :\n",
    "        #print key,labels_test[key] ,y\n",
    "        error +=1\n",
    "print \"Accuracy on Test data :\",((len_test-error)*100)/float(len_test)"
   ]
  },
  {
   "cell_type": "code",
   "execution_count": 22,
   "metadata": {
    "collapsed": false
   },
   "outputs": [
    {
     "name": "stdout",
     "output_type": "stream",
     "text": [
      "Accuracy on Train data : 90.8222222222\n"
     ]
    }
   ],
   "source": [
    "error = 0\n",
    "for key,email in enumerate(emails_train):\n",
    "    y= predict(email,spam_dic,ham_dic,pspam,pham)\n",
    "    if labels_train[key] != y :\n",
    "        #print key,labels_test[key] ,y\n",
    "        error +=1\n",
    "print \"Accuracy on Train data :\",((len_train-error)*100)/float(len_train)"
   ]
  },
  {
   "cell_type": "code",
   "execution_count": 13,
   "metadata": {
    "collapsed": false
   },
   "outputs": [
    {
     "data": {
      "text/plain": [
       "3233189"
      ]
     },
     "execution_count": 13,
     "metadata": {},
     "output_type": "execute_result"
    }
   ],
   "source": [
    "sum(spam_dic.values())+sum(ham_dic.values())"
   ]
  },
  {
   "cell_type": "code",
   "execution_count": 14,
   "metadata": {
    "collapsed": false
   },
   "outputs": [
    {
     "data": {
      "text/plain": [
       "[('enron', 63263),\n",
       " ('a', 39120),\n",
       " ('corp', 36005),\n",
       " ('the', 35487),\n",
       " ('to', 32608)]"
      ]
     },
     "execution_count": 14,
     "metadata": {},
     "output_type": "execute_result"
    }
   ],
   "source": [
    "top_five(spam_dic)"
   ]
  },
  {
   "cell_type": "code",
   "execution_count": 15,
   "metadata": {
    "collapsed": false
   },
   "outputs": [
    {
     "data": {
      "text/plain": [
       "[('aaaaaaaaaaaaaaaaaaaaaaaaaaaaaaaaaaaaaaaaaaaaaaaaaaaaaaaaaaaaaaaaaaaaaaaaaaaa',\n",
       "  69975),\n",
       " ('enron', 67010),\n",
       " ('the', 52367),\n",
       " ('to', 39990),\n",
       " ('a', 28002)]"
      ]
     },
     "execution_count": 15,
     "metadata": {},
     "output_type": "execute_result"
    }
   ],
   "source": [
    "top_five(ham_dic)"
   ]
  },
  {
   "cell_type": "code",
   "execution_count": null,
   "metadata": {
    "collapsed": true
   },
   "outputs": [],
   "source": []
  },
  {
   "cell_type": "code",
   "execution_count": null,
   "metadata": {
    "collapsed": true
   },
   "outputs": [],
   "source": []
  }
 ],
 "metadata": {
  "kernelspec": {
   "display_name": "Python [Root]",
   "language": "python",
   "name": "Python [Root]"
  },
  "language_info": {
   "codemirror_mode": {
    "name": "ipython",
    "version": 2
   },
   "file_extension": ".py",
   "mimetype": "text/x-python",
   "name": "python",
   "nbconvert_exporter": "python",
   "pygments_lexer": "ipython2",
   "version": "2.7.12"
  }
 },
 "nbformat": 4,
 "nbformat_minor": 0
}
